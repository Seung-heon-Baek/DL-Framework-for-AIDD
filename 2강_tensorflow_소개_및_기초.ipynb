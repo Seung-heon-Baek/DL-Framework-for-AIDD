{
  "nbformat": 4,
  "nbformat_minor": 0,
  "metadata": {
    "colab": {
      "name": "1.tensorflow_소개_및_기초.ipynb",
      "provenance": [],
      "include_colab_link": true
    },
    "kernelspec": {
      "name": "python3",
      "display_name": "Python 3"
    },
    "language_info": {
      "name": "python"
    },
    "gpuClass": "standard"
  },
  "cells": [
    {
      "cell_type": "markdown",
      "metadata": {
        "id": "view-in-github",
        "colab_type": "text"
      },
      "source": [
        "<a href=\"https://colab.research.google.com/github/Seung-heon-Baek/DL-Framework-for-AIDD/blob/main/2%EA%B0%95_tensorflow_%EC%86%8C%EA%B0%9C_%EB%B0%8F_%EA%B8%B0%EC%B4%88.ipynb\" target=\"_parent\"><img src=\"https://colab.research.google.com/assets/colab-badge.svg\" alt=\"Open In Colab\"/></a>"
      ]
    },
    {
      "cell_type": "markdown",
      "source": [
        "# 0. 텐서플로우??\n",
        "\n",
        "텐서플로우는 구글이 직접적으로 개발에 관여한 딥러닝을 위한 모듈  \n",
        "따라서, google colab에서 활용할 경우 세션 설정에 따라 CPU와 GPU 버전 모두 추가 설치 없이 최신 버전 사용 가능  \n",
        "(단, v1 사용을 위해 추가적인 설정 필요)"
      ],
      "metadata": {
        "id": "CAtKy-M85qou"
      }
    },
    {
      "cell_type": "markdown",
      "source": [
        "v1 사용을 위해서는 아래와 같은 코드의 실행을 통해 Downgrade를 할 필요가 있음\n",
        "\n",
        "```\n",
        "!pip install tensorflow-gpu==1.15\n",
        "!pip install keras==2.3.1\n",
        "```\n"
      ],
      "metadata": {
        "id": "GBg5phfa6Br-"
      }
    },
    {
      "cell_type": "markdown",
      "source": [
        "### 코랩이 아닌 우분투(pc,server)를 활용할 경우 필요한 설치과정  \n",
        "anaconda -> virtualenv -> tensorflow install"
      ],
      "metadata": {
        "id": "9lLfl7bJGlv4"
      }
    },
    {
      "cell_type": "markdown",
      "source": [
        "\n",
        "\n",
        "- > pytorch 역시 최신 버전이 설치되어 있으나, Graph 기반의 연산을 위해 Geometric을 사용 할 경우 cuda 버전의 차이로 호환되는 모듈로의 세부 조율이 필요\n",
        "\n",
        "\n",
        "\n",
        "```\n",
        "import torch\n",
        "torch.__version__\n",
        "```\n",
        "\n",
        "\n",
        "\n"
      ],
      "metadata": {
        "id": "btFGzMma7EXn"
      }
    },
    {
      "cell_type": "code",
      "source": [
        "import torch\n",
        "torch.__version__"
      ],
      "metadata": {
        "colab": {
          "base_uri": "https://localhost:8080/",
          "height": 35
        },
        "id": "BASbogdG8Q0S",
        "outputId": "aba50b0b-851f-4b74-b488-6d1fa46fe7c3"
      },
      "execution_count": 1,
      "outputs": [
        {
          "output_type": "execute_result",
          "data": {
            "text/plain": [
              "'2.5.1+cu121'"
            ],
            "application/vnd.google.colaboratory.intrinsic+json": {
              "type": "string"
            }
          },
          "metadata": {},
          "execution_count": 1
        }
      ]
    },
    {
      "cell_type": "markdown",
      "source": [
        "# 1. 텐서플로우 기초"
      ],
      "metadata": {
        "id": "x8hwFJcn5gML"
      }
    },
    {
      "cell_type": "code",
      "source": [
        "import tensorflow as tf\n",
        "\n",
        "print('tensorflow version = ', tf.__version__)"
      ],
      "metadata": {
        "colab": {
          "base_uri": "https://localhost:8080/"
        },
        "id": "kQ9Eu1Gy7-tH",
        "outputId": "c8373a47-2042-465c-ca34-f9a679379244"
      },
      "execution_count": 2,
      "outputs": [
        {
          "output_type": "stream",
          "name": "stdout",
          "text": [
            "tensorflow version =  2.17.1\n"
          ]
        }
      ]
    },
    {
      "cell_type": "markdown",
      "source": [
        "## 1.1 텐서플로우 기초 자료형"
      ],
      "metadata": {
        "id": "xPP6F2I07puL"
      }
    },
    {
      "cell_type": "code",
      "source": [
        "# Type\n",
        "string = tf.Variable(\"this is a string\", tf.string)\n",
        "number = tf.Variable(324, tf.int32)\n",
        "number2 = tf.Variable(123, tf.int32)\n",
        "floating = tf.Variable(3.567, tf.float32)\n",
        "print(string, '\\n', number, '\\n', floating)"
      ],
      "metadata": {
        "colab": {
          "base_uri": "https://localhost:8080/"
        },
        "id": "IVS7CF1J7x-9",
        "outputId": "314183fc-31cb-408f-f01d-cd96bfa0a6fa"
      },
      "execution_count": 3,
      "outputs": [
        {
          "output_type": "stream",
          "name": "stdout",
          "text": [
            "<tf.Variable 'Variable:0' shape=() dtype=string, numpy=b'this is a string'> \n",
            " <tf.Variable 'Variable:0' shape=() dtype=int32, numpy=324> \n",
            " <tf.Variable 'Variable:0' shape=() dtype=float32, numpy=3.567>\n"
          ]
        }
      ]
    },
    {
      "cell_type": "code",
      "source": [
        "print(number + number2)"
      ],
      "metadata": {
        "colab": {
          "base_uri": "https://localhost:8080/"
        },
        "id": "3yKUnpEfLbfv",
        "outputId": "47b78221-9478-4e8d-d9e7-2f8f6bf5e131"
      },
      "execution_count": 4,
      "outputs": [
        {
          "output_type": "stream",
          "name": "stdout",
          "text": [
            "tf.Tensor(447, shape=(), dtype=int32)\n"
          ]
        }
      ]
    },
    {
      "cell_type": "code",
      "source": [
        "# Demention\n",
        "rank1_tensor = tf.Variable([\"Test\"], tf.string)\n",
        "rank2_tensor = tf.Variable([[\"test\", \"ok\"], [\"test\", \"yes\"]], tf.string)\n",
        "print(rank1_tensor)\n",
        "print(rank2_tensor)"
      ],
      "metadata": {
        "colab": {
          "base_uri": "https://localhost:8080/"
        },
        "id": "kRHTuypl8Szk",
        "outputId": "20d04821-d7dc-4af8-f725-6895b3c96bda"
      },
      "execution_count": 5,
      "outputs": [
        {
          "output_type": "stream",
          "name": "stdout",
          "text": [
            "<tf.Variable 'Variable:0' shape=(1,) dtype=string, numpy=array([b'Test'], dtype=object)>\n",
            "<tf.Variable 'Variable:0' shape=(2, 2) dtype=string, numpy=\n",
            "array([[b'test', b'ok'],\n",
            "       [b'test', b'yes']], dtype=object)>\n"
          ]
        }
      ]
    },
    {
      "cell_type": "code",
      "source": [
        "# Reshape\n",
        "\n",
        "tensor1 = tf.ones([1,2,9])\n",
        "tensor2 = tf.reshape(tensor1, [2,9,1])\n",
        "tensor3 = tf.reshape(tensor2, [3, -1])\n",
        "\n",
        "print(tensor1)\n",
        "print(tensor2)\n",
        "print(tensor3)"
      ],
      "metadata": {
        "colab": {
          "base_uri": "https://localhost:8080/"
        },
        "id": "8R0aheBs8pcB",
        "outputId": "35e50d16-3e59-41cb-ff96-b9c59071ef55"
      },
      "execution_count": 6,
      "outputs": [
        {
          "output_type": "stream",
          "name": "stdout",
          "text": [
            "tf.Tensor(\n",
            "[[[1. 1. 1. 1. 1. 1. 1. 1. 1.]\n",
            "  [1. 1. 1. 1. 1. 1. 1. 1. 1.]]], shape=(1, 2, 9), dtype=float32)\n",
            "tf.Tensor(\n",
            "[[[1.]\n",
            "  [1.]\n",
            "  [1.]\n",
            "  [1.]\n",
            "  [1.]\n",
            "  [1.]\n",
            "  [1.]\n",
            "  [1.]\n",
            "  [1.]]\n",
            "\n",
            " [[1.]\n",
            "  [1.]\n",
            "  [1.]\n",
            "  [1.]\n",
            "  [1.]\n",
            "  [1.]\n",
            "  [1.]\n",
            "  [1.]\n",
            "  [1.]]], shape=(2, 9, 1), dtype=float32)\n",
            "tf.Tensor(\n",
            "[[1. 1. 1. 1. 1. 1.]\n",
            " [1. 1. 1. 1. 1. 1.]\n",
            " [1. 1. 1. 1. 1. 1.]], shape=(3, 6), dtype=float32)\n"
          ]
        }
      ]
    },
    {
      "cell_type": "code",
      "source": [
        "# Slice(Handling)\n",
        "matrix = [[1,2,3,4,5],\n",
        "          [6,7,8,9,10],\n",
        "          [11,12,13,14,15],\n",
        "          [16,17,18,19,20]]\n",
        "\n",
        "tensor = tf.Variable(matrix, dtype=tf.int32)\n",
        "print(tensor)"
      ],
      "metadata": {
        "colab": {
          "base_uri": "https://localhost:8080/"
        },
        "id": "qWpmDxOM9X1u",
        "outputId": "a986ca78-e7eb-455b-f7f2-849367c1267f"
      },
      "execution_count": 7,
      "outputs": [
        {
          "output_type": "stream",
          "name": "stdout",
          "text": [
            "<tf.Variable 'Variable:0' shape=(4, 5) dtype=int32, numpy=\n",
            "array([[ 1,  2,  3,  4,  5],\n",
            "       [ 6,  7,  8,  9, 10],\n",
            "       [11, 12, 13, 14, 15],\n",
            "       [16, 17, 18, 19, 20]], dtype=int32)>\n"
          ]
        }
      ]
    },
    {
      "cell_type": "code",
      "source": [
        "# Now lets select some different rows and columns from our tensor\n",
        "\n",
        "row1 = tensor[0]  # selects the first row\n",
        "print(row1)\n",
        "\n",
        "three = tensor[1,2]  # selects the 3rd element from the 1st row\n",
        "print(three)  # -> 3\n",
        "\n",
        "column1 = tensor[:, 0]  # selects the first column\n",
        "print(column1)\n",
        "\n",
        "row_2_and_4 = tensor[1::2]  # selects second and fourth row\n",
        "# 1부터 2칸씩 건너뛰기\n",
        "print(row_2_and_4)\n",
        "\n",
        "column_1_in_row_3_and_4 = tensor[2:4, 0]\n",
        "# 2:4 2이상 4미만\n",
        "print(column_1_in_row_3_and_4)\n"
      ],
      "metadata": {
        "colab": {
          "base_uri": "https://localhost:8080/"
        },
        "id": "6FBWDafj9fha",
        "outputId": "4065d69f-2c1d-4d90-8d5d-15b587c548ec"
      },
      "execution_count": 8,
      "outputs": [
        {
          "output_type": "stream",
          "name": "stdout",
          "text": [
            "tf.Tensor([1 2 3 4 5], shape=(5,), dtype=int32)\n",
            "tf.Tensor(8, shape=(), dtype=int32)\n",
            "tf.Tensor([ 1  6 11 16], shape=(4,), dtype=int32)\n",
            "tf.Tensor(\n",
            "[[ 6  7  8  9 10]\n",
            " [16 17 18 19 20]], shape=(2, 5), dtype=int32)\n",
            "tf.Tensor([11 16], shape=(2,), dtype=int32)\n"
          ]
        }
      ]
    },
    {
      "cell_type": "code",
      "source": [],
      "metadata": {
        "id": "bn0oII1Y8vKV"
      },
      "execution_count": null,
      "outputs": []
    },
    {
      "cell_type": "markdown",
      "source": [
        "## 1.2 텐서플로우 동작"
      ],
      "metadata": {
        "id": "_dRD4eYr7ivR"
      }
    },
    {
      "cell_type": "code",
      "execution_count": 9,
      "metadata": {
        "colab": {
          "base_uri": "https://localhost:8080/"
        },
        "id": "35qVzF_teief",
        "outputId": "f214ae15-28ef-425f-c586-049cbfc5f1ac"
      },
      "outputs": [
        {
          "output_type": "stream",
          "name": "stdout",
          "text": [
            "tf.Tensor(b'hello world', shape=(), dtype=string)\n",
            "b'hello world'\n"
          ]
        }
      ],
      "source": [
        "# Create a Tensor.\n",
        "hello = tf.constant(\"hello world\")\n",
        "print(hello)\n",
        "\n",
        "# To access a Tensor value, call numpy().\n",
        "print(hello.numpy())"
      ]
    },
    {
      "cell_type": "code",
      "source": [
        "# Define tensor constants.\n",
        "a = tf.constant(2)\n",
        "b = tf.constant(3)\n",
        "c = tf.constant(5)\n",
        "\n",
        "# Various tensor operations.\n",
        "# Note: Tensors also support python operators (+, *, ...)\n",
        "add = tf.add(a, b)\n",
        "sub = tf.subtract(a, b)\n",
        "mul = tf.multiply(a, b)\n",
        "div = tf.divide(a, b)\n",
        "\n",
        "# Access tensors value.\n",
        "print(\"add =\", add.numpy())\n",
        "print(\"sub =\", sub.numpy())\n",
        "print(\"mul =\", mul.numpy())\n",
        "print(\"div =\", div.numpy())"
      ],
      "metadata": {
        "colab": {
          "base_uri": "https://localhost:8080/"
        },
        "id": "n4J763KYkAvq",
        "outputId": "24ee88bc-3dd1-4ded-d83a-70c42325b47c"
      },
      "execution_count": 10,
      "outputs": [
        {
          "output_type": "stream",
          "name": "stdout",
          "text": [
            "add = 5\n",
            "sub = -1\n",
            "mul = 6\n",
            "div = 0.6666666666666666\n"
          ]
        }
      ]
    },
    {
      "cell_type": "code",
      "source": [
        "print(a+b+c)\n",
        "print((a+b+c).numpy())"
      ],
      "metadata": {
        "colab": {
          "base_uri": "https://localhost:8080/"
        },
        "id": "rtF213U6rlhI",
        "outputId": "7babf9b3-a6ac-4ac0-c2e3-3a8f339fcd51"
      },
      "execution_count": 11,
      "outputs": [
        {
          "output_type": "stream",
          "name": "stdout",
          "text": [
            "tf.Tensor(10, shape=(), dtype=int32)\n",
            "10\n"
          ]
        }
      ]
    },
    {
      "cell_type": "markdown",
      "source": [
        "dtype=int32의 **32**는 정수 데이터가 32비트(4바이트) 크기로 저장됨을 나타내며, 이 크기는 표현 가능한 정수 값의 범위를 결정합니다. 32비트는 많은 경우 메모리 효율성과 범위의 균형을 이루는 일반적인 선택입니다."
      ],
      "metadata": {
        "id": "mSf8UyWX1eY0"
      }
    },
    {
      "cell_type": "code",
      "source": [
        "# Some more operations.\n",
        "mean = tf.reduce_mean([a, b, c])\n",
        "sum = tf.reduce_sum([a, b, c])\n",
        "\n",
        "# Access tensors value.\n",
        "print(\"mean =\", mean.numpy())\n",
        "print(\"sum =\", sum.numpy())"
      ],
      "metadata": {
        "colab": {
          "base_uri": "https://localhost:8080/"
        },
        "id": "bKuA0nKyqTmI",
        "outputId": "28db2c27-7a62-46ca-81dd-03014bfc3647"
      },
      "execution_count": null,
      "outputs": [
        {
          "output_type": "stream",
          "name": "stdout",
          "text": [
            "mean = 3\n",
            "sum = 10\n"
          ]
        }
      ]
    },
    {
      "cell_type": "code",
      "source": [
        "# Matrix multiplications.\n",
        "matrix1 = tf.constant([[2., 1.], [1., 2.]])\n",
        "matrix2 = tf.constant([[5., 6.], [7., 8.]])\n",
        "\n",
        "product = tf.matmul(matrix1, matrix2)\n",
        "product"
      ],
      "metadata": {
        "colab": {
          "base_uri": "https://localhost:8080/"
        },
        "id": "qvd18hAsqV0t",
        "outputId": "b9596697-7814-4c74-e1f7-1cc686cd045a"
      },
      "execution_count": null,
      "outputs": [
        {
          "output_type": "execute_result",
          "data": {
            "text/plain": [
              "<tf.Tensor: shape=(2, 2), dtype=float32, numpy=\n",
              "array([[17., 20.],\n",
              "       [19., 22.]], dtype=float32)>"
            ]
          },
          "metadata": {},
          "execution_count": 17
        }
      ]
    },
    {
      "cell_type": "code",
      "source": [
        "# Convert Tensor to Numpy.\n",
        "new = product.numpy()\n",
        "print(type(new))\n",
        "new"
      ],
      "metadata": {
        "colab": {
          "base_uri": "https://localhost:8080/"
        },
        "id": "WdxcYcM0qYdH",
        "outputId": "6cbcc665-f83d-4822-a6f3-2efe7355d840"
      },
      "execution_count": null,
      "outputs": [
        {
          "output_type": "stream",
          "name": "stdout",
          "text": [
            "<class 'numpy.ndarray'>\n"
          ]
        },
        {
          "output_type": "execute_result",
          "data": {
            "text/plain": [
              "array([[17., 20.],\n",
              "       [19., 22.]], dtype=float32)"
            ]
          },
          "metadata": {},
          "execution_count": 18
        }
      ]
    },
    {
      "cell_type": "code",
      "source": [],
      "metadata": {
        "id": "e2ROKM1dqa_n"
      },
      "execution_count": null,
      "outputs": []
    }
  ]
}